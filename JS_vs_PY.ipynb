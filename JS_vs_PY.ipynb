{
  "nbformat": 4,
  "nbformat_minor": 0,
  "metadata": {
    "colab": {
      "provenance": [],
      "authorship_tag": "ABX9TyNpYgft1ZGges9N3DJpinQC",
      "include_colab_link": true
    },
    "kernelspec": {
      "name": "python3",
      "display_name": "Python 3"
    },
    "language_info": {
      "name": "python"
    }
  },
  "cells": [
    {
      "cell_type": "markdown",
      "metadata": {
        "id": "view-in-github",
        "colab_type": "text"
      },
      "source": [
        "<a href=\"https://colab.research.google.com/github/xdKya/1-1-2/blob/main/JS_vs_PY.ipynb\" target=\"_parent\"><img src=\"https://colab.research.google.com/assets/colab-badge.svg\" alt=\"Open In Colab\"/></a>"
      ]
    },
    {
      "cell_type": "markdown",
      "source": [
        "CRIANDO UMA VARIÁVEL\n",
        "\n",
        "em JS:\n",
        "var nomeDaVar = \"valor\"\n",
        "\n",
        "\n",
        "em PY:"
      ],
      "metadata": {
        "id": "uxMVnWAcd25s"
      }
    },
    {
      "cell_type": "code",
      "execution_count": 4,
      "metadata": {
        "id": "P_LAepgUdbE3"
      },
      "outputs": [],
      "source": [
        "nomeDaVar = 10;"
      ]
    },
    {
      "cell_type": "markdown",
      "source": [
        "//isso é um comentário\n",
        "\n",
        "\n",
        "---\n",
        "\n",
        "\n",
        "\n",
        "\n",
        "```\n",
        "console.log(nomeDaVar+\"Texto\")\n",
        "```\n",
        "\n"
      ],
      "metadata": {
        "id": "oOPDkUkeeQtL"
      }
    },
    {
      "cell_type": "code",
      "source": [
        "# Isso é um comentário!\n",
        "print(nomeDaVar,\"texto\")\n",
        "type(nomeDaVar)"
      ],
      "metadata": {
        "colab": {
          "base_uri": "https://localhost:8080/"
        },
        "id": "vVCbnL76eV7a",
        "outputId": "7e84a5a0-0fd1-4a02-fa30-8e190a0c3aa2"
      },
      "execution_count": 8,
      "outputs": [
        {
          "output_type": "stream",
          "name": "stdout",
          "text": [
            "10 texto\n"
          ]
        },
        {
          "output_type": "execute_result",
          "data": {
            "text/plain": [
              "int"
            ]
          },
          "metadata": {},
          "execution_count": 8
        }
      ]
    },
    {
      "cell_type": "code",
      "source": [
        "print(2%2)"
      ],
      "metadata": {
        "colab": {
          "base_uri": "https://localhost:8080/"
        },
        "id": "aqzD6skufWXS",
        "outputId": "1131e8ed-9e88-4e88-edba-8fdfd09f823d"
      },
      "execution_count": 13,
      "outputs": [
        {
          "output_type": "stream",
          "name": "stdout",
          "text": [
            "0\n"
          ]
        }
      ]
    },
    {
      "cell_type": "markdown",
      "source": [
        "DECLARANDO UMA FUNÇÃO EM JS:\n",
        "\n",
        "\n",
        "```\n",
        "function nomeDaFuncao(){\n",
        "  //ação\n",
        "}\n",
        "\n",
        "nomeDaFuncao()\n",
        "```\n",
        "\n",
        "em PY:"
      ],
      "metadata": {
        "id": "vL917vkrfo8d"
      }
    },
    {
      "cell_type": "code",
      "source": [
        "def nomeDaFuncao(texto):\n",
        "  print(texto)\n",
        "\n",
        "\n",
        "#ação fora da def/função\n",
        "\n",
        "texto = float(input(\"Digite o texto: \"))\n",
        "nomeDaFuncao(texto)\n",
        "\n",
        "type(texto)"
      ],
      "metadata": {
        "colab": {
          "base_uri": "https://localhost:8080/"
        },
        "id": "Kxnh1IYVfymG",
        "outputId": "6c09e19f-f539-45c3-87fe-eaf58945f2e3"
      },
      "execution_count": 23,
      "outputs": [
        {
          "output_type": "stream",
          "name": "stdout",
          "text": [
            "Digite o texto: 10.5\n",
            "10.5\n"
          ]
        },
        {
          "output_type": "execute_result",
          "data": {
            "text/plain": [
              "float"
            ]
          },
          "metadata": {},
          "execution_count": 23
        }
      ]
    },
    {
      "cell_type": "markdown",
      "source": [
        "CRIANDO UMA CALCULADORA"
      ],
      "metadata": {
        "id": "5ZKV7yWFhZJh"
      }
    },
    {
      "cell_type": "code",
      "source": [],
      "metadata": {
        "id": "a2fidCK0hbDN"
      },
      "execution_count": null,
      "outputs": []
    }
  ]
}